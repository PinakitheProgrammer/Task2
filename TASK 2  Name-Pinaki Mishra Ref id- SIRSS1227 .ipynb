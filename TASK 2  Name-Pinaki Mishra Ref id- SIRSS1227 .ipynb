{
 "cells": [
  {
   "cell_type": "markdown",
   "metadata": {
    "id": "yu6NHFDtHDuo"
   },
   "source": [
    "# TASK 2\n",
    "\n",
    "\n",
    "\n"
   ]
  },
  {
   "cell_type": "markdown",
   "metadata": {},
   "source": [
    "# Ref id:- SIRSS1227"
   ]
  },
  {
   "cell_type": "markdown",
   "metadata": {},
   "source": [
    "# Pinaki Mishra"
   ]
  },
  {
   "cell_type": "markdown",
   "metadata": {
    "id": "vd72y788_G04"
   },
   "source": [
    "**Q1. Write a lambda expression to extract first word of a string.**"
   ]
  },
  {
   "cell_type": "code",
   "execution_count": 13,
   "metadata": {
    "id": "3mrl-QAw_Iyq"
   },
   "outputs": [
    {
     "name": "stdout",
     "output_type": "stream",
     "text": [
      "My\n"
     ]
    }
   ],
   "source": [
    "lam = (lambda stri: stri.split()[0])\n",
    "print(lam('My name is Pinaki'))"
   ]
  },
  {
   "cell_type": "markdown",
   "metadata": {
    "id": "kntusW_1_Qbt"
   },
   "source": [
    "**Q2. Write a function to extract first word of s string (with many words separated by space).**"
   ]
  },
  {
   "cell_type": "code",
   "execution_count": 14,
   "metadata": {
    "colab": {
     "base_uri": "https://localhost:8080/"
    },
    "id": "T_dRb2NO_Tw1",
    "outputId": "6989ceec-3290-4f50-d6f5-47f1fbc9902f"
   },
   "outputs": [
    {
     "name": "stdout",
     "output_type": "stream",
     "text": [
      "Enter a string: 5\n",
      "5\n"
     ]
    }
   ],
   "source": [
    "def ext(st):\n",
    "  return st.split()[0]\n",
    "\n",
    "st = input(\"Enter a string: \")\n",
    "print(ext(st))\n",
    "\n"
   ]
  },
  {
   "cell_type": "markdown",
   "metadata": {
    "id": "NqilW-t6BOAF"
   },
   "source": [
    "**Q3. Extract the first word from every string from a list of strings by using map function.**"
   ]
  },
  {
   "cell_type": "code",
   "execution_count": 15,
   "metadata": {
    "colab": {
     "base_uri": "https://localhost:8080/"
    },
    "id": "uHdb-CqC_oUL",
    "outputId": "1ddc65dd-cde5-4cee-c4cd-7b8ed972f8aa"
   },
   "outputs": [
    {
     "data": {
      "text/plain": [
       "['My', 'I', 'Studying']"
      ]
     },
     "execution_count": 15,
     "metadata": {},
     "output_type": "execute_result"
    }
   ],
   "source": [
    "lst = ['My name is Pinaki','I am 21 years old','Studying computer science engineering']\n",
    "list(map(ext, lst))"
   ]
  },
  {
   "cell_type": "markdown",
   "metadata": {
    "id": "HQ7z1vDPBoaI"
   },
   "source": [
    "**Q4. Write a function to return a list of prime factors of a given number.**"
   ]
  },
  {
   "cell_type": "code",
   "execution_count": 16,
   "metadata": {
    "colab": {
     "base_uri": "https://localhost:8080/"
    },
    "id": "A83J-5EKA0r_",
    "outputId": "29ced11c-e06b-46e4-f9e5-ec88ef1ea15a"
   },
   "outputs": [
    {
     "name": "stdout",
     "output_type": "stream",
     "text": [
      "Enter a number: 12\n",
      "[2, 2, 3]\n"
     ]
    }
   ],
   "source": [
    "def prime(x):\n",
    "  lst=[]\n",
    "  i=2 \n",
    "  while(i<=x):\n",
    "    if x%i ==0:\n",
    "      lst.append(i)\n",
    "      x = x//i\n",
    "    else: \n",
    "      i=i+1\n",
    "  return lst\n",
    "\n",
    "x = int(input(\"Enter a number: \"))\n",
    "print(prime(x))"
   ]
  },
  {
   "cell_type": "markdown",
   "metadata": {
    "id": "8lHWhRJMGLgP"
   },
   "source": [
    "**Q5. Write a function that finds 2nd largest among 4 numbers (Repetitions are allowed, without sorting).**"
   ]
  },
  {
   "cell_type": "code",
   "execution_count": 17,
   "metadata": {
    "colab": {
     "base_uri": "https://localhost:8080/"
    },
    "id": "xf6XFtBhGdVL",
    "outputId": "6f24d887-6df9-413f-a4db-f07eb75eb728"
   },
   "outputs": [
    {
     "name": "stdout",
     "output_type": "stream",
     "text": [
      "Enter 4 numbers: 10\n",
      "Enter 4 numbers: 5\n",
      "Enter 4 numbers: 10\n",
      "Enter 4 numbers: 5\n",
      "[10, 5, 10, 5]\n"
     ]
    },
    {
     "data": {
      "text/plain": [
       "5"
      ]
     },
     "execution_count": 17,
     "metadata": {},
     "output_type": "execute_result"
    }
   ],
   "source": [
    "lst= []\n",
    "\n",
    "for i in range(4):\n",
    "  num = int(input(\"Enter 4 numbers: \"))\n",
    "  lst.append(num)\n",
    "print(lst)\n",
    "\n",
    "\n",
    "def sec_largest() :\n",
    "    max_num = max(lst) \n",
    "    return max(lst, key = lambda x : min(lst)-1 if (x == max_num) else x)\n",
    "\n",
    "sec_largest()\n",
    "    "
   ]
  },
  {
   "cell_type": "code",
   "execution_count": 33,
   "metadata": {
    "id": "FufXiDCaG1IU"
   },
   "outputs": [],
   "source": []
  }
 ],
 "metadata": {
  "colab": {
   "name": "Untitled6.ipynb",
   "provenance": []
  },
  "kernelspec": {
   "display_name": "Python 3",
   "language": "python",
   "name": "python3"
  },
  "language_info": {
   "codemirror_mode": {
    "name": "ipython",
    "version": 3
   },
   "file_extension": ".py",
   "mimetype": "text/x-python",
   "name": "python",
   "nbconvert_exporter": "python",
   "pygments_lexer": "ipython3",
   "version": "3.7.6"
  }
 },
 "nbformat": 4,
 "nbformat_minor": 1
}
